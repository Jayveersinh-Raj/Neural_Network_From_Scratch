{
 "cells": [
  {
   "cell_type": "code",
   "execution_count": 1,
   "id": "8db49000",
   "metadata": {
    "_cell_guid": "b1076dfc-b9ad-4769-8c92-a6c4dae69d19",
    "_uuid": "8f2839f25d086af736a60e9eeb907d3b93b6e0e5",
    "execution": {
     "iopub.execute_input": "2022-06-23T18:06:27.654249Z",
     "iopub.status.busy": "2022-06-23T18:06:27.653766Z",
     "iopub.status.idle": "2022-06-23T18:06:27.665185Z",
     "shell.execute_reply": "2022-06-23T18:06:27.664098Z"
    },
    "papermill": {
     "duration": 0.02694,
     "end_time": "2022-06-23T18:06:27.667596",
     "exception": false,
     "start_time": "2022-06-23T18:06:27.640656",
     "status": "completed"
    },
    "tags": []
   },
   "outputs": [],
   "source": [
    "# Lets import the dependencies firt\n",
    "import pandas as pd # For reading data and storing it as pandas dataframe\n",
    "import numpy as np  # For building neural networks and all the maths\n",
    "import matplotlib.pyplot as plt"
   ]
  },
  {
   "cell_type": "markdown",
   "id": "925a2b54",
   "metadata": {
    "papermill": {
     "duration": 0.007371,
     "end_time": "2022-06-23T18:06:27.682750",
     "exception": false,
     "start_time": "2022-06-23T18:06:27.675379",
     "status": "completed"
    },
    "tags": []
   },
   "source": [
    "# Preprocessing: "
   ]
  },
  {
   "cell_type": "code",
   "execution_count": 2,
   "id": "8c096709",
   "metadata": {
    "execution": {
     "iopub.execute_input": "2022-06-23T18:06:27.699331Z",
     "iopub.status.busy": "2022-06-23T18:06:27.698938Z",
     "iopub.status.idle": "2022-06-23T18:06:31.727757Z",
     "shell.execute_reply": "2022-06-23T18:06:31.726864Z"
    },
    "papermill": {
     "duration": 4.040186,
     "end_time": "2022-06-23T18:06:31.730399",
     "exception": false,
     "start_time": "2022-06-23T18:06:27.690213",
     "status": "completed"
    },
    "tags": []
   },
   "outputs": [
    {
     "data": {
      "text/html": [
       "<div>\n",
       "<style scoped>\n",
       "    .dataframe tbody tr th:only-of-type {\n",
       "        vertical-align: middle;\n",
       "    }\n",
       "\n",
       "    .dataframe tbody tr th {\n",
       "        vertical-align: top;\n",
       "    }\n",
       "\n",
       "    .dataframe thead th {\n",
       "        text-align: right;\n",
       "    }\n",
       "</style>\n",
       "<table border=\"1\" class=\"dataframe\">\n",
       "  <thead>\n",
       "    <tr style=\"text-align: right;\">\n",
       "      <th></th>\n",
       "      <th>label</th>\n",
       "      <th>pixel0</th>\n",
       "      <th>pixel1</th>\n",
       "      <th>pixel2</th>\n",
       "      <th>pixel3</th>\n",
       "      <th>pixel4</th>\n",
       "      <th>pixel5</th>\n",
       "      <th>pixel6</th>\n",
       "      <th>pixel7</th>\n",
       "      <th>pixel8</th>\n",
       "      <th>...</th>\n",
       "      <th>pixel774</th>\n",
       "      <th>pixel775</th>\n",
       "      <th>pixel776</th>\n",
       "      <th>pixel777</th>\n",
       "      <th>pixel778</th>\n",
       "      <th>pixel779</th>\n",
       "      <th>pixel780</th>\n",
       "      <th>pixel781</th>\n",
       "      <th>pixel782</th>\n",
       "      <th>pixel783</th>\n",
       "    </tr>\n",
       "  </thead>\n",
       "  <tbody>\n",
       "    <tr>\n",
       "      <th>0</th>\n",
       "      <td>1</td>\n",
       "      <td>0</td>\n",
       "      <td>0</td>\n",
       "      <td>0</td>\n",
       "      <td>0</td>\n",
       "      <td>0</td>\n",
       "      <td>0</td>\n",
       "      <td>0</td>\n",
       "      <td>0</td>\n",
       "      <td>0</td>\n",
       "      <td>...</td>\n",
       "      <td>0</td>\n",
       "      <td>0</td>\n",
       "      <td>0</td>\n",
       "      <td>0</td>\n",
       "      <td>0</td>\n",
       "      <td>0</td>\n",
       "      <td>0</td>\n",
       "      <td>0</td>\n",
       "      <td>0</td>\n",
       "      <td>0</td>\n",
       "    </tr>\n",
       "    <tr>\n",
       "      <th>1</th>\n",
       "      <td>0</td>\n",
       "      <td>0</td>\n",
       "      <td>0</td>\n",
       "      <td>0</td>\n",
       "      <td>0</td>\n",
       "      <td>0</td>\n",
       "      <td>0</td>\n",
       "      <td>0</td>\n",
       "      <td>0</td>\n",
       "      <td>0</td>\n",
       "      <td>...</td>\n",
       "      <td>0</td>\n",
       "      <td>0</td>\n",
       "      <td>0</td>\n",
       "      <td>0</td>\n",
       "      <td>0</td>\n",
       "      <td>0</td>\n",
       "      <td>0</td>\n",
       "      <td>0</td>\n",
       "      <td>0</td>\n",
       "      <td>0</td>\n",
       "    </tr>\n",
       "    <tr>\n",
       "      <th>2</th>\n",
       "      <td>1</td>\n",
       "      <td>0</td>\n",
       "      <td>0</td>\n",
       "      <td>0</td>\n",
       "      <td>0</td>\n",
       "      <td>0</td>\n",
       "      <td>0</td>\n",
       "      <td>0</td>\n",
       "      <td>0</td>\n",
       "      <td>0</td>\n",
       "      <td>...</td>\n",
       "      <td>0</td>\n",
       "      <td>0</td>\n",
       "      <td>0</td>\n",
       "      <td>0</td>\n",
       "      <td>0</td>\n",
       "      <td>0</td>\n",
       "      <td>0</td>\n",
       "      <td>0</td>\n",
       "      <td>0</td>\n",
       "      <td>0</td>\n",
       "    </tr>\n",
       "    <tr>\n",
       "      <th>3</th>\n",
       "      <td>4</td>\n",
       "      <td>0</td>\n",
       "      <td>0</td>\n",
       "      <td>0</td>\n",
       "      <td>0</td>\n",
       "      <td>0</td>\n",
       "      <td>0</td>\n",
       "      <td>0</td>\n",
       "      <td>0</td>\n",
       "      <td>0</td>\n",
       "      <td>...</td>\n",
       "      <td>0</td>\n",
       "      <td>0</td>\n",
       "      <td>0</td>\n",
       "      <td>0</td>\n",
       "      <td>0</td>\n",
       "      <td>0</td>\n",
       "      <td>0</td>\n",
       "      <td>0</td>\n",
       "      <td>0</td>\n",
       "      <td>0</td>\n",
       "    </tr>\n",
       "    <tr>\n",
       "      <th>4</th>\n",
       "      <td>0</td>\n",
       "      <td>0</td>\n",
       "      <td>0</td>\n",
       "      <td>0</td>\n",
       "      <td>0</td>\n",
       "      <td>0</td>\n",
       "      <td>0</td>\n",
       "      <td>0</td>\n",
       "      <td>0</td>\n",
       "      <td>0</td>\n",
       "      <td>...</td>\n",
       "      <td>0</td>\n",
       "      <td>0</td>\n",
       "      <td>0</td>\n",
       "      <td>0</td>\n",
       "      <td>0</td>\n",
       "      <td>0</td>\n",
       "      <td>0</td>\n",
       "      <td>0</td>\n",
       "      <td>0</td>\n",
       "      <td>0</td>\n",
       "    </tr>\n",
       "  </tbody>\n",
       "</table>\n",
       "<p>5 rows × 785 columns</p>\n",
       "</div>"
      ],
      "text/plain": [
       "   label  pixel0  pixel1  pixel2  pixel3  pixel4  pixel5  pixel6  pixel7  \\\n",
       "0      1       0       0       0       0       0       0       0       0   \n",
       "1      0       0       0       0       0       0       0       0       0   \n",
       "2      1       0       0       0       0       0       0       0       0   \n",
       "3      4       0       0       0       0       0       0       0       0   \n",
       "4      0       0       0       0       0       0       0       0       0   \n",
       "\n",
       "   pixel8  ...  pixel774  pixel775  pixel776  pixel777  pixel778  pixel779  \\\n",
       "0       0  ...         0         0         0         0         0         0   \n",
       "1       0  ...         0         0         0         0         0         0   \n",
       "2       0  ...         0         0         0         0         0         0   \n",
       "3       0  ...         0         0         0         0         0         0   \n",
       "4       0  ...         0         0         0         0         0         0   \n",
       "\n",
       "   pixel780  pixel781  pixel782  pixel783  \n",
       "0         0         0         0         0  \n",
       "1         0         0         0         0  \n",
       "2         0         0         0         0  \n",
       "3         0         0         0         0  \n",
       "4         0         0         0         0  \n",
       "\n",
       "[5 rows x 785 columns]"
      ]
     },
     "execution_count": 2,
     "metadata": {},
     "output_type": "execute_result"
    }
   ],
   "source": [
    "# Importing data\n",
    "data_train = pd.read_csv('../input/mnist-digit-recognizer/train.csv')\n",
    "# The above is the training dataset\n",
    "\n",
    "# To see first 5 rows\n",
    "data_train.head() # Since the data is imported as DataFrame by panas"
   ]
  },
  {
   "cell_type": "code",
   "execution_count": 3,
   "id": "479267bc",
   "metadata": {
    "execution": {
     "iopub.execute_input": "2022-06-23T18:06:31.748597Z",
     "iopub.status.busy": "2022-06-23T18:06:31.748151Z",
     "iopub.status.idle": "2022-06-23T18:06:31.865444Z",
     "shell.execute_reply": "2022-06-23T18:06:31.864303Z"
    },
    "papermill": {
     "duration": 0.12989,
     "end_time": "2022-06-23T18:06:31.868399",
     "exception": false,
     "start_time": "2022-06-23T18:06:31.738509",
     "status": "completed"
    },
    "tags": []
   },
   "outputs": [
    {
     "data": {
      "text/plain": [
       "(42000, 785)"
      ]
     },
     "execution_count": 3,
     "metadata": {},
     "output_type": "execute_result"
    }
   ],
   "source": [
    "# Now lets make them into numpy data\n",
    "data = np.array(data_train)\n",
    "# data.shape -> To check the shape of our data\n",
    "\n",
    "# Alright it is a huge number, lets save them in variables\n",
    "row, column = data.shape\n",
    "row,column"
   ]
  },
  {
   "cell_type": "code",
   "execution_count": 4,
   "id": "741405dd",
   "metadata": {
    "execution": {
     "iopub.execute_input": "2022-06-23T18:06:31.886492Z",
     "iopub.status.busy": "2022-06-23T18:06:31.885474Z",
     "iopub.status.idle": "2022-06-23T18:06:31.893677Z",
     "shell.execute_reply": "2022-06-23T18:06:31.892521Z"
    },
    "papermill": {
     "duration": 0.019499,
     "end_time": "2022-06-23T18:06:31.895806",
     "exception": false,
     "start_time": "2022-06-23T18:06:31.876307",
     "status": "completed"
    },
    "tags": []
   },
   "outputs": [
    {
     "data": {
      "text/plain": [
       "(4200, 37800)"
      ]
     },
     "execution_count": 4,
     "metadata": {},
     "output_type": "execute_result"
    }
   ],
   "source": [
    "# Alright now, lets just from here divide into training and test datasets\n",
    "# Lets do 10% of it as test and 90% as train\n",
    "ten_percent = int((1/10)*row)\n",
    "ninty_percent = row - ten_percent\n",
    "ten_percent, ninty_percent"
   ]
  },
  {
   "cell_type": "code",
   "execution_count": 5,
   "id": "0d74b8f1",
   "metadata": {
    "execution": {
     "iopub.execute_input": "2022-06-23T18:06:31.914796Z",
     "iopub.status.busy": "2022-06-23T18:06:31.913468Z",
     "iopub.status.idle": "2022-06-23T18:06:32.018808Z",
     "shell.execute_reply": "2022-06-23T18:06:32.017904Z"
    },
    "papermill": {
     "duration": 0.116871,
     "end_time": "2022-06-23T18:06:32.020990",
     "exception": false,
     "start_time": "2022-06-23T18:06:31.904119",
     "status": "completed"
    },
    "tags": []
   },
   "outputs": [
    {
     "data": {
      "text/plain": [
       "(   pixel0  pixel1  pixel2  pixel3  pixel4  pixel5  pixel6  pixel7  pixel8  \\\n",
       " 0       0       0       0       0       0       0       0       0       0   \n",
       " 1       0       0       0       0       0       0       0       0       0   \n",
       " 2       0       0       0       0       0       0       0       0       0   \n",
       " 3       0       0       0       0       0       0       0       0       0   \n",
       " 4       0       0       0       0       0       0       0       0       0   \n",
       " \n",
       "    pixel9  ...  pixel774  pixel775  pixel776  pixel777  pixel778  pixel779  \\\n",
       " 0       0  ...         0         0         0         0         0         0   \n",
       " 1       0  ...         0         0         0         0         0         0   \n",
       " 2       0  ...         0         0         0         0         0         0   \n",
       " 3       0  ...         0         0         0         0         0         0   \n",
       " 4       0  ...         0         0         0         0         0         0   \n",
       " \n",
       "    pixel780  pixel781  pixel782  pixel783  \n",
       " 0         0         0         0         0  \n",
       " 1         0         0         0         0  \n",
       " 2         0         0         0         0  \n",
       " 3         0         0         0         0  \n",
       " 4         0         0         0         0  \n",
       " \n",
       " [5 rows x 784 columns],\n",
       " 0    1\n",
       " 1    0\n",
       " 2    1\n",
       " 3    4\n",
       " 4    0\n",
       " Name: label, dtype: int64)"
      ]
     },
     "execution_count": 5,
     "metadata": {},
     "output_type": "execute_result"
    }
   ],
   "source": [
    "# Perfect, now if you saw the table given by data_train.head()\n",
    "# our labels are at the 0th index\n",
    "# Thus,\n",
    "X = data_train.drop(\"label\", axis = 1) # We do not need the labels for our set X, its just features\n",
    "y = data_train[\"label\"]\n",
    "X.head(), y.head()#X_train.shape,y_train.shape # To see if we got the correct data"
   ]
  },
  {
   "cell_type": "code",
   "execution_count": 6,
   "id": "b83f136c",
   "metadata": {
    "execution": {
     "iopub.execute_input": "2022-06-23T18:06:32.040111Z",
     "iopub.status.busy": "2022-06-23T18:06:32.039658Z",
     "iopub.status.idle": "2022-06-23T18:06:32.047296Z",
     "shell.execute_reply": "2022-06-23T18:06:32.046159Z"
    },
    "papermill": {
     "duration": 0.020063,
     "end_time": "2022-06-23T18:06:32.049492",
     "exception": false,
     "start_time": "2022-06-23T18:06:32.029429",
     "status": "completed"
    },
    "tags": []
   },
   "outputs": [
    {
     "data": {
      "text/plain": [
       "((37800, 784), (37800,))"
      ]
     },
     "execution_count": 6,
     "metadata": {},
     "output_type": "execute_result"
    }
   ],
   "source": [
    "# Now lets divide the training and test sets\n",
    "X_train = X[:ninty_percent]\n",
    "y_train = y[:ninty_percent]\n",
    "X_train.shape, y_train.shape # To see if we got correct number of elements"
   ]
  },
  {
   "cell_type": "code",
   "execution_count": 7,
   "id": "b85bf367",
   "metadata": {
    "execution": {
     "iopub.execute_input": "2022-06-23T18:06:32.068817Z",
     "iopub.status.busy": "2022-06-23T18:06:32.068385Z",
     "iopub.status.idle": "2022-06-23T18:06:32.075408Z",
     "shell.execute_reply": "2022-06-23T18:06:32.074491Z"
    },
    "papermill": {
     "duration": 0.019156,
     "end_time": "2022-06-23T18:06:32.077697",
     "exception": false,
     "start_time": "2022-06-23T18:06:32.058541",
     "status": "completed"
    },
    "tags": []
   },
   "outputs": [
    {
     "data": {
      "text/plain": [
       "((4200, 784), (4200,))"
      ]
     },
     "execution_count": 7,
     "metadata": {},
     "output_type": "execute_result"
    }
   ],
   "source": [
    "# Splitting into test set\n",
    "X_test = X[ninty_percent:]\n",
    "y_test = y[ninty_percent:]\n",
    "X_test.shape, y_test.shape"
   ]
  },
  {
   "cell_type": "code",
   "execution_count": 8,
   "id": "11b4defd",
   "metadata": {
    "execution": {
     "iopub.execute_input": "2022-06-23T18:06:32.096972Z",
     "iopub.status.busy": "2022-06-23T18:06:32.096226Z",
     "iopub.status.idle": "2022-06-23T18:06:32.104372Z",
     "shell.execute_reply": "2022-06-23T18:06:32.103408Z"
    },
    "papermill": {
     "duration": 0.020297,
     "end_time": "2022-06-23T18:06:32.106438",
     "exception": false,
     "start_time": "2022-06-23T18:06:32.086141",
     "status": "completed"
    },
    "tags": []
   },
   "outputs": [
    {
     "data": {
      "text/plain": [
       "((784, 37800), (784, 4200))"
      ]
     },
     "execution_count": 8,
     "metadata": {},
     "output_type": "execute_result"
    }
   ],
   "source": [
    "# We need to transpose our X_train and X_test, because it is easier to work with columns\n",
    "X_train = X_train.T\n",
    "X_test = X_test.T\n",
    "X_train.shape, X_test.shape"
   ]
  },
  {
   "cell_type": "markdown",
   "id": "b24b6fb3",
   "metadata": {
    "papermill": {
     "duration": 0.008228,
     "end_time": "2022-06-23T18:06:32.123279",
     "exception": false,
     "start_time": "2022-06-23T18:06:32.115051",
     "status": "completed"
    },
    "tags": []
   },
   "source": [
    "# 1. Initial parameters (random weights and biases)"
   ]
  },
  {
   "cell_type": "code",
   "execution_count": 9,
   "id": "a3326fa2",
   "metadata": {
    "execution": {
     "iopub.execute_input": "2022-06-23T18:06:32.142546Z",
     "iopub.status.busy": "2022-06-23T18:06:32.141779Z",
     "iopub.status.idle": "2022-06-23T18:06:32.149037Z",
     "shell.execute_reply": "2022-06-23T18:06:32.148188Z"
    },
    "papermill": {
     "duration": 0.019576,
     "end_time": "2022-06-23T18:06:32.151366",
     "exception": false,
     "start_time": "2022-06-23T18:06:32.131790",
     "status": "completed"
    },
    "tags": []
   },
   "outputs": [],
   "source": [
    "# Now we have done the preprocessing\n",
    "# Lets create the Neural Network\n",
    "# 1. Randomly initialize the initial parameters (weights and biases)\n",
    "''' We are using 1 input layer with 784 neurons/inputs, 1 hidden layer(10 neurons) \n",
    "    and 1 output layer with 10 neurons (numbers between 0-9). Thus, we'll have 2 connecting synapses '''\n",
    "\n",
    "def init_params():\n",
    "    ''' First synapse between input and hidden layer '''\n",
    "    w1 = np.random.rand(10,784) # random array with 10 rows and 784 columns since each hidden layer is connected to 784 input neurons\n",
    "    b1 = np.random.rand(10, 1) # 10 random numbers as biases\n",
    "    \n",
    "    '''Second synapse between hidden layer and output layer'''\n",
    "    w2 = np.random.rand(10, 10) # 10 hidden neurons, each connected to 10 output neurons\n",
    "    b2 = np.random.rand(10, 1)\n",
    "    \n",
    "    return w1, w2, b1, b2"
   ]
  },
  {
   "cell_type": "markdown",
   "id": "89a5ea73",
   "metadata": {
    "papermill": {
     "duration": 0.008481,
     "end_time": "2022-06-23T18:06:32.168400",
     "exception": false,
     "start_time": "2022-06-23T18:06:32.159919",
     "status": "completed"
    },
    "tags": []
   },
   "source": [
    "# 2. Forward Propagation:"
   ]
  },
  {
   "attachments": {
    "0247c3da-d577-41be-b946-a2bf3837fb01.png": {
     "image/png": "[encoded data removed]"
    }
   },
   "cell_type": "markdown",
   "id": "b353e18e",
   "metadata": {
    "papermill": {
     "duration": 0.008778,
     "end_time": "2022-06-23T18:06:32.185875",
     "exception": false,
     "start_time": "2022-06-23T18:06:32.177097",
     "status": "completed"
    },
    "tags": []
   },
   "source": [
    "**ReLU:** The rectified linear activation function or ReLU for short is a piecewise linear function that will output the input directly if it is positive, otherwise, it will output zero.\n",
    "\n",
    "Source: [https://www.google.com/search?q=relu+function&oq=Relu+function&aqs=chrome.0.0i131i433i512j0i512l9.4472j0j7&sourceid=chrome&ie=UTF-8](http://)\n",
    "\n",
    "![![image.png](attachment:0247c3da-d577-41be-b946-a2bf3837fb01.png)"
   ]
  },
  {
   "cell_type": "code",
   "execution_count": 10,
   "id": "c102ff21",
   "metadata": {
    "execution": {
     "iopub.execute_input": "2022-06-23T18:06:32.206472Z",
     "iopub.status.busy": "2022-06-23T18:06:32.205696Z",
     "iopub.status.idle": "2022-06-23T18:06:32.210917Z",
     "shell.execute_reply": "2022-06-23T18:06:32.210173Z"
    },
    "papermill": {
     "duration": 0.018083,
     "end_time": "2022-06-23T18:06:32.213170",
     "exception": false,
     "start_time": "2022-06-23T18:06:32.195087",
     "status": "completed"
    },
    "tags": []
   },
   "outputs": [],
   "source": [
    "# The ReLU function for activation\n",
    "def ReLu(z):\n",
    "    R = np.maximum(0, z) # It would go through each element and apply ReLU function\n",
    "    return R"
   ]
  },
  {
   "attachments": {
    "4990de28-8708-4b4b-8ef4-b0e68d5d4449.png": {
     "image/png": "[encoded data removed]"
    }
   },
   "cell_type": "markdown",
   "id": "ec6fdbdb",
   "metadata": {
    "papermill": {
     "duration": 0.008504,
     "end_time": "2022-06-23T18:06:32.230257",
     "exception": false,
     "start_time": "2022-06-23T18:06:32.221753",
     "status": "completed"
    },
    "tags": []
   },
   "source": [
    "**Softmax:** Softmax is a mathematical function that converts a vector of numbers into a vector of probabilities, where the probabilities of each value are proportional to the relative scale of each value in the vector.\n",
    "\n",
    "Source: [https://machinelearningmastery.com/softmax-activation-function-with-python/](http://)\n",
    "\n",
    "![image.png](attachment:4990de28-8708-4b4b-8ef4-b0e68d5d4449.png)\n",
    "\n"
   ]
  },
  {
   "cell_type": "code",
   "execution_count": 11,
   "id": "0a64b39f",
   "metadata": {
    "execution": {
     "iopub.execute_input": "2022-06-23T18:06:32.250091Z",
     "iopub.status.busy": "2022-06-23T18:06:32.249364Z",
     "iopub.status.idle": "2022-06-23T18:06:32.254637Z",
     "shell.execute_reply": "2022-06-23T18:06:32.253886Z"
    },
    "papermill": {
     "duration": 0.017517,
     "end_time": "2022-06-23T18:06:32.256750",
     "exception": false,
     "start_time": "2022-06-23T18:06:32.239233",
     "status": "completed"
    },
    "tags": []
   },
   "outputs": [],
   "source": [
    "# The softmax function implementation\n",
    "def softmax(x):\n",
    "    s = exp(x)/np.sum(exp(x))\n",
    "    return s"
   ]
  },
  {
   "cell_type": "code",
   "execution_count": 12,
   "id": "19f8c96a",
   "metadata": {
    "execution": {
     "iopub.execute_input": "2022-06-23T18:06:32.276031Z",
     "iopub.status.busy": "2022-06-23T18:06:32.275274Z",
     "iopub.status.idle": "2022-06-23T18:06:32.281948Z",
     "shell.execute_reply": "2022-06-23T18:06:32.281174Z"
    },
    "papermill": {
     "duration": 0.018908,
     "end_time": "2022-06-23T18:06:32.284238",
     "exception": false,
     "start_time": "2022-06-23T18:06:32.265330",
     "status": "completed"
    },
    "tags": []
   },
   "outputs": [],
   "source": [
    "# The function for forward propagation (refer the math (provided above), behind neural networks)\n",
    "def forw_prop(X, w1, w2, b1, b2): # our input X, and random weights and biases\n",
    "    '''Input layer to hidden layer'''\n",
    "    Z1 = w1.dot(X) + b1  # Multiplying the weight with the input and adding the bias\n",
    "    A1 = ReLu(Z1)\n",
    "    \n",
    "    '''Hidden layer to output layer'''\n",
    "    Z2 = w2.dot(A1) + b2   # Now we should use A1 instead of X, because our data is converted to A1\n",
    "    A2 = softmax(Z2)  # We use softmax activation for the second synapse\n",
    "    \n",
    "    return Z1, Z2, A1, A2"
   ]
  },
  {
   "cell_type": "markdown",
   "id": "d334e979",
   "metadata": {
    "papermill": {
     "duration": 0.008291,
     "end_time": "2022-06-23T18:06:32.301489",
     "exception": false,
     "start_time": "2022-06-23T18:06:32.293198",
     "status": "completed"
    },
    "tags": []
   },
   "source": [
    "# 3.Back Propagation"
   ]
  },
  {
   "cell_type": "markdown",
   "id": "480edff8",
   "metadata": {
    "papermill": {
     "duration": 0.008233,
     "end_time": "2022-06-23T18:06:32.318277",
     "exception": false,
     "start_time": "2022-06-23T18:06:32.310044",
     "status": "completed"
    },
    "tags": []
   },
   "source": [
    "**One-Hot Encoding:** One hot encoding simply makes different columns for different labels, and puts 0s and 1s to recognize the label. For example if we have 3 labels say 0 1 and 2, then it will create 3 columns 0, 1, 2 and then if the label is 0 then 1 at 0's column and 0s at other corresponding columns. (Also works for strings)"
   ]
  },
  {
   "cell_type": "code",
   "execution_count": 13,
   "id": "a1caaa58",
   "metadata": {
    "execution": {
     "iopub.execute_input": "2022-06-23T18:06:32.337506Z",
     "iopub.status.busy": "2022-06-23T18:06:32.336753Z",
     "iopub.status.idle": "2022-06-23T18:06:32.342967Z",
     "shell.execute_reply": "2022-06-23T18:06:32.342317Z"
    },
    "papermill": {
     "duration": 0.018127,
     "end_time": "2022-06-23T18:06:32.344989",
     "exception": false,
     "start_time": "2022-06-23T18:06:32.326862",
     "status": "completed"
    },
    "tags": []
   },
   "outputs": [],
   "source": [
    "# One-hot Encoder function\n",
    "def one_hot_encode(x):\n",
    "    encoded_x = np.zeros((x.size, x.max()+1)) # The maximum no. there are + 1(starts from 0 so) column \n",
    "    # Since size would be huge (in thousands) but our numbers are just 0-9 hence 9+1 = 10, columns, 1 for each\n",
    "    \n",
    "    encoded_x[np.arange(x.size), x] = 1 # Puts 1 on the particular column for ex. for 0 at 0th column, for 1 at 1st column and so on\n",
    "    # np.arange(size) will go to each row and at the x index put 1, for ex. at 0th column 1 for 0 and for 1 at 1st column and so o\n",
    "    \n",
    "    # We will now tranpose it so each column would be our label, like we did we X_train, so it should be same for both\n",
    "    encode_x = encode_x.T    \n",
    "    return encode_x"
   ]
  },
  {
   "cell_type": "code",
   "execution_count": 14,
   "id": "1ced03e7",
   "metadata": {
    "execution": {
     "iopub.execute_input": "2022-06-23T18:06:32.364062Z",
     "iopub.status.busy": "2022-06-23T18:06:32.363352Z",
     "iopub.status.idle": "2022-06-23T18:06:32.370169Z",
     "shell.execute_reply": "2022-06-23T18:06:32.369215Z"
    },
    "papermill": {
     "duration": 0.018583,
     "end_time": "2022-06-23T18:06:32.372129",
     "exception": false,
     "start_time": "2022-06-23T18:06:32.353546",
     "status": "completed"
    },
    "tags": []
   },
   "outputs": [
    {
     "data": {
      "text/plain": [
       "'Boolean returns 1 if true and 0 if false. Look at the ReLU function graph above.\\nThe slope is just 1 when x > 0 and 0 otherwise. '"
      ]
     },
     "execution_count": 14,
     "metadata": {},
     "output_type": "execute_result"
    }
   ],
   "source": [
    "# This is the function to find the derivative of ReLU function since we are backpropagating\n",
    "def derv_relu(x):\n",
    "    return x > 0\n",
    "'''Boolean returns 1 if true and 0 if false. Look at the ReLU function graph above.\n",
    "The slope is just 1 when x > 0 and 0 otherwise. '''\n"
   ]
  },
  {
   "cell_type": "code",
   "execution_count": 15,
   "id": "37bf43c0",
   "metadata": {
    "execution": {
     "iopub.execute_input": "2022-06-23T18:06:32.392661Z",
     "iopub.status.busy": "2022-06-23T18:06:32.391935Z",
     "iopub.status.idle": "2022-06-23T18:06:32.399467Z",
     "shell.execute_reply": "2022-06-23T18:06:32.398662Z"
    },
    "papermill": {
     "duration": 0.02088,
     "end_time": "2022-06-23T18:06:32.401868",
     "exception": false,
     "start_time": "2022-06-23T18:06:32.380988",
     "status": "completed"
    },
    "tags": []
   },
   "outputs": [],
   "source": [
    "# Back propagating function\n",
    "def back_prop(y, X, Z1, Z2, A1, A2, W2):\n",
    "    encoded_y = one_hot_encode(y)\n",
    "    n = y.size\n",
    "    dZ2 = A2 - encoded_y\n",
    "    dW2 = 1/n * dZ2.dot(A1.T)\n",
    "    db2 = 1/n * np.sum(dZ2, 2) # On the second axis or columns\n",
    "    \n",
    "    dZ1 = W2.T.dot(dZ2) * derv_relu(Z1)\n",
    "    dW2 = 1/n * dZ1.dot(X.T)\n",
    "    db1 = 1/n * np.sum(dZ1, 2)\n",
    "    \n",
    "    return dW1, dW2, db1, db2 # We just change the weights and biases backpropagating so"
   ]
  },
  {
   "cell_type": "code",
   "execution_count": 16,
   "id": "653dbf6e",
   "metadata": {
    "execution": {
     "iopub.execute_input": "2022-06-23T18:06:32.421681Z",
     "iopub.status.busy": "2022-06-23T18:06:32.420951Z",
     "iopub.status.idle": "2022-06-23T18:06:32.427038Z",
     "shell.execute_reply": "2022-06-23T18:06:32.426231Z"
    },
    "papermill": {
     "duration": 0.018379,
     "end_time": "2022-06-23T18:06:32.429190",
     "exception": false,
     "start_time": "2022-06-23T18:06:32.410811",
     "status": "completed"
    },
    "tags": []
   },
   "outputs": [],
   "source": [
    "# Now lets update the parameters\n",
    "def update(W1, W2, dW1, dW2, b1, b2, db1, db2, alpha): # alpha is the learning_rate\n",
    "    W1 = W1 - alpha * dW1\n",
    "    W2 = W2 - alpha * dW2\n",
    "    \n",
    "    b1 = b1 - alpha * db1\n",
    "    b2 = b2 - alpha * db2\n",
    "    \n",
    "    return W1, W2, b1, b2"
   ]
  },
  {
   "cell_type": "markdown",
   "id": "9a15d491",
   "metadata": {
    "papermill": {
     "duration": 0.008448,
     "end_time": "2022-06-23T18:06:32.446487",
     "exception": false,
     "start_time": "2022-06-23T18:06:32.438039",
     "status": "completed"
    },
    "tags": []
   },
   "source": [
    "# 4. The gradient descent"
   ]
  },
  {
   "cell_type": "code",
   "execution_count": 17,
   "id": "78c26019",
   "metadata": {
    "execution": {
     "iopub.execute_input": "2022-06-23T18:06:32.466395Z",
     "iopub.status.busy": "2022-06-23T18:06:32.465656Z",
     "iopub.status.idle": "2022-06-23T18:06:32.473235Z",
     "shell.execute_reply": "2022-06-23T18:06:32.472231Z"
    },
    "papermill": {
     "duration": 0.02036,
     "end_time": "2022-06-23T18:06:32.475692",
     "exception": false,
     "start_time": "2022-06-23T18:06:32.455332",
     "status": "completed"
    },
    "tags": []
   },
   "outputs": [],
   "source": [
    "# Now lets code up the gradient descent using above functions \n",
    "'''I did not mention any particular type of gradient descent'''\n",
    "def gradient_descent (X, y, epochs, alpha):\n",
    "    w1, w2, b1, b2 = init_params()\n",
    "    for i in range(epochs):\n",
    "        Z1, Z2, A1, A2 = forw_prop(X, w1, w2, b1, b2)\n",
    "        dw1, dw2, db1, bd2 = back_prop(y, X, Z1, Z2, A1, A2, w2)\n",
    "        w1, w2, b1, b2 = update(w1, w2, dw1, dw2, b1, b2, db1, db2, alpha)"
   ]
  }
 ],
 "metadata": {
  "kernelspec": {
   "display_name": "Python 3",
   "language": "python",
   "name": "python3"
  },
  "language_info": {
   "codemirror_mode": {
    "name": "ipython",
    "version": 3
   },
   "file_extension": ".py",
   "mimetype": "text/x-python",
   "name": "python",
   "nbconvert_exporter": "python",
   "pygments_lexer": "ipython3",
   "version": "3.7.12"
  },
  "papermill": {
   "default_parameters": {},
   "duration": 16.622084,
   "end_time": "2022-06-23T18:06:33.206470",
   "environment_variables": {},
   "exception": null,
   "input_path": "__notebook__.ipynb",
   "output_path": "__notebook__.ipynb",
   "parameters": {},
   "start_time": "2022-06-23T18:06:16.584386",
   "version": "2.3.4"
  }
 },
 "nbformat": 4,
 "nbformat_minor": 5
}
